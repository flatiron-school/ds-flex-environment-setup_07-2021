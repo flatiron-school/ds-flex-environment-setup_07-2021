{
 "cells": [
  {
   "cell_type": "markdown",
   "metadata": {},
   "source": [
    "# Environment Setup"
   ]
  },
  {
   "cell_type": "markdown",
   "metadata": {},
   "source": [
    "- DS-Flex 07-2021\n",
    "- 07/20/21\n"
   ]
  },
  {
   "cell_type": "markdown",
   "metadata": {},
   "source": [
    "## Learning Objectives"
   ]
  },
  {
   "cell_type": "markdown",
   "metadata": {},
   "source": [
    "- [ ] Walk Through Environment Setup\n",
    "- [ ] Walk Through `nbextensions` Setup\n",
    "- [ ] Discuss installing a code editor (like VS Code or SublimeText).\n",
    "- [ ] Discuss GitHub Desktop: https://desktop.github.com/\n",
    "- [ ] Go over the general workflow for tackling labs on Illumidesk and in your local environment"
   ]
  },
  {
   "cell_type": "markdown",
   "metadata": {},
   "source": [
    "# Environment Setup"
   ]
  },
  {
   "cell_type": "markdown",
   "metadata": {},
   "source": [
    "## Env Setup Lessons"
   ]
  },
  {
   "cell_type": "markdown",
   "metadata": {},
   "source": [
    "There are 2 lessons on Canvas that you will cover environment installation:\n",
    "\n",
    "1. **OS-Specific Set-Up Lessons:**\n",
    "    - Setting up a Professional Data Science Environment - MacOS\n",
    "        - [Canvas Link](https://learning.flatironschool.com/courses/4339/pages/setting-up-a-professional-data-science-environment-macos-installation?module_item_id=276027)\n",
    "        - [Repo Link](https://github.com/learn-co-curriculum/dsc-data-science-env-mac-installation)\n",
    "    - Setting up a Professional Data Science Environment - Windows Installation\n",
    "        - [Canvas Link](https://learning.flatironschool.com/courses/4339/pages/setting-up-a-professional-data-science-environment-windows-installation?module_item_id=276029)\n",
    "        - [Repo Link](https://github.com/learn-co-curriculum/dsc-data-science-env-windows-installation)\n",
    "    \n",
    "2. **Setting up a Professional Data Science Environment - Configuring Git and Anaconda**\n",
    "    - [Canvas Link](https://learning.flatironschool.com/courses/4339/pages/setting-up-a-professional-data-science-environment-configuring-git-and-anaconda?module_item_id=276031)\n",
    "    - [Repoo Link](https://github.com/learn-co-curriculum/dsc-data-science-env-config)\n",
    "    \n",
    "\n"
   ]
  },
  {
   "cell_type": "markdown",
   "metadata": {},
   "source": [
    "### 👨‍🏫 Environment/Tools Slide Show"
   ]
  },
  {
   "cell_type": "markdown",
   "metadata": {},
   "source": [
    "- **There is also a Central Lecturer recording in Topic 01**: \n",
    "    - [**🎬 Video: Data Science Environments** [Central Lecturer Lesson]](https://learning.flatironschool.com/courses/4339/pages/video-data-science-environments?module_item_id=276038)\n",
    "- Environment/Tools Slide Show: \n",
    "    - [Flatiron Tools: Illumidesk and Your Local Environment Slides](https://docs.google.com/presentation/d/1RKgrPf99l7m5r0dRvPp4nFzQQ9NgpA082boj7nvzx4M/edit?usp=sharing)\n"
   ]
  },
  {
   "cell_type": "markdown",
   "metadata": {},
   "source": [
    "### Question to the group:"
   ]
  },
  {
   "cell_type": "markdown",
   "metadata": {},
   "source": [
    "- Who has already taken a stab at installing their environment?\n",
    "    - Success?\n",
    "    - Errors?\n",
    "\n",
    "- Anyone (especially windows users) getting an error every time their terminal starts about conda init? "
   ]
  },
  {
   "cell_type": "markdown",
   "metadata": {},
   "source": [
    "##  👨‍🏫  Walk-Through Environment Set-Up"
   ]
  },
  {
   "cell_type": "markdown",
   "metadata": {},
   "source": [
    "    \n",
    "2. **Setting up a Professional Data Science Environment - Configuring Git and Anaconda**\n",
    "    - [Canvas Link](https://learning.flatironschool.com/courses/4339/pages/setting-up-a-professional-data-science-environment-configuring-git-and-anaconda?module_item_id=276031)\n",
    "    - [Repo Link](https://github.com/learn-co-curriculum/dsc-data-science-env-config)"
   ]
  },
  {
   "cell_type": "markdown",
   "metadata": {},
   "source": [
    "## Environment Setup Troubleshooting:  What if..."
   ]
  },
  {
   "cell_type": "markdown",
   "metadata": {},
   "source": [
    "### \"learn-env\" doesn't show up in your list of jupyter notebook kernels?"
   ]
  },
  {
   "cell_type": "markdown",
   "metadata": {},
   "source": [
    "1. Make sure that had activated your `learn-env` before booting up your notebook server.\n",
    "2. Make sure that you had entered the following command in your terminal after installing your learn-env\n",
    "```bash\n",
    "  python -m ipykernel install --user --name=learn-env```"
   ]
  },
  {
   "cell_type": "markdown",
   "metadata": {},
   "source": [
    "### Your terminal doesn't activate learn-env automatically\n"
   ]
  },
  {
   "cell_type": "markdown",
   "metadata": {},
   "source": [
    "-  Enter the following command into your terminal (Windows Users replace `conda activate` with `source activate`)<br>\n",
    "```bash\n",
    "echo \"conda activate learn-env\" >> ~/.bash_profile```\n"
   ]
  },
  {
   "cell_type": "markdown",
   "metadata": {},
   "source": [
    "### You have a mac that displays a message about the default shell being zsh"
   ]
  },
  {
   "cell_type": "markdown",
   "metadata": {},
   "source": [
    "- [Original Source URL](https://www.howtogeek.com/444596/how-to-change-the-default-shell-to-bash-in-macos-catalina/)\n",
    "    - From your terminal, run this command:\n",
    "```bash\n",
    "chsh -s /bin/bash\n",
    "```\n",
    "- To silence the warning message about the default shell has changed, add this command to your `~/.bash_profile`\n",
    " ```bash\n",
    " export BASH_SILENCE_DEPRECATION_WARNING=1\n",
    " ```\n"
   ]
  },
  {
   "cell_type": "markdown",
   "metadata": {},
   "source": [
    "### I have a new Mac with an M1 chip?"
   ]
  },
  {
   "cell_type": "markdown",
   "metadata": {},
   "source": [
    "- I **think** you should be okay with setting up your environment.\n",
    "- I found [this blog post that you may find helpful](https://vineethbharadwaj.medium.com/setting-up-anaconda-navigator-spyder-jupyter-python-environments-on-macbook-with-m1-chip-for-2a4b9849c1ec)\n",
    "\n",
    "- While we don't use it until phase 4, here are some guides on install `tensorflow` on the M1 macs:\n",
    "    - Article: https://www.ai-buzz.com/18-steps-to-install-tensorflow_macos-on-m1-macbook-2020/\n",
    "    - Video: https://youtu.be/W_Qbrnp6uis"
   ]
  },
  {
   "cell_type": "markdown",
   "metadata": {},
   "source": [
    "# ✅ Install a Code Editor"
   ]
  },
  {
   "cell_type": "markdown",
   "metadata": {},
   "source": [
    "- When dealing with code, the default text editing applications included in Windows and MacOS are not ideal (especially on Mac).\n",
    "\n",
    "#### You should install one or the other (or both!) of the following:\n",
    "- [ ] [SublimeText](https://www.sublimetext.com/)\n",
    "    - Great lightweight text editor with some convenient features. \n",
    "    - [Official Anaconda Guide on setting up SublimeText](https://docs.anaconda.com/anaconda/user-guide/tasks/integration/sublime/)\n",
    "- [ ] [VSCode](https://code.visualstudio.com/)\n",
    "    - Great more full-featured text editor that is bordering on being an IDE (integrated development environment)\n",
    "    - [Official Anaconda Guide on setting up VSCode](https://docs.anaconda.com/anaconda/user-guide/tasks/integration/python-vsc/)"
   ]
  },
  {
   "cell_type": "markdown",
   "metadata": {},
   "source": [
    "###  Once you've installed a code editor:"
   ]
  },
  {
   "cell_type": "markdown",
   "metadata": {},
   "source": [
    "- [ ] Check out your ~/.bash_profile (**we will discuss your .bash_profile again as part of topic 02: bash and git**)\n",
    "\n",
    "\n",
    "- **BONUS HACK:** Add a \"jnb\" shortcut that allows you to type `jnb` to open jupyter notebook.\n",
    "- Add:\n",
    "  ```alias jnb=\"jupyter notebook\" to your .bash_profile```\n",
    "  \n",
    "  - Note: if you are using a different shell besides bash, you will need to find out its equivalent of `.bash_profile` (e.g. .zschrc)\n",
    "  "
   ]
  },
  {
   "cell_type": "markdown",
   "metadata": {},
   "source": [
    "# ✅ Install Jupyter Notebook Extensions"
   ]
  },
  {
   "cell_type": "markdown",
   "metadata": {},
   "source": [
    "### Jupyter Notebook Extensions Resources"
   ]
  },
  {
   "cell_type": "markdown",
   "metadata": {},
   "source": [
    "- [Documentation](https://jupyter-contrib-nbextensions.readthedocs.io/en/latest/)\n",
    "    \n",
    "-  [Study Group Video](https://youtu.be/Fl7Xwr_kUkw)"
   ]
  },
  {
   "cell_type": "markdown",
   "metadata": {},
   "source": [
    "###  Installation & activation\n",
    "- [Official `nbextensions` Documentation](https://jupyter-contrib-nbextensions.readthedocs.io/en/latest/install.html)\n",
    "\n",
    "\n",
    "- **The best way to install is via `conda`**\n",
    "    0. Open your terminal and make sure learn-env is activated.\n",
    "\n",
    "    1. Install the extensions via conda\n",
    "    ```bash\n",
    "      conda install -c conda-forge jupyter_contrib_nbextensions\n",
    "      ```\n",
    "\n",
    "    2. Activate the extension configurator\n",
    "    ```bash\n",
    "    jupyter nbextension enable jupyter_nbextensions_configurator\n",
    "      ```\n",
    "      \n",
    "- **If you have issues installing with conda, install with pip instead:**\n",
    "    1. Install extensions\n",
    "    ```bash\n",
    "    pip install jupyter_contrib_nbextensions\n",
    "    ```\n",
    "    2. Install additional requirements (Install javascript and css file):\n",
    "    ```bash\n",
    "    jupyter contrib nbextension install --user\n",
    "    ```\n",
    "    3. Activate the extension configurator\n",
    "    ```bash\n",
    "    jupyter nbextension enable jupyter_nbextensions_configurator\n",
    "      ```"
   ]
  },
  {
   "cell_type": "markdown",
   "metadata": {},
   "source": [
    "### Turning on extensions\n",
    "\n",
    "- **When you boot up jupyter notebook, there should be a new tab at the top called `nbextensions`.** Click on the tab to open the list of available extensions.\n",
    "\n",
    "\n",
    "- This opens a menu of all of the available extensions with checkboxes to activate them; \n",
    "  - ***NOTE: If the list of available notebook extensions is grayed out:***\n",
    "    - Uncheck \"`disable configuration for nbextensions without explicit compatibility (they may break your notebook environment, but can be useful to show for nbextension development)`\" at the top of the page next to the search box.\n",
    "    \n",
    "    \n",
    "    \n",
    "- **Clicking the name of an extension will load its options menu** below the table of extensions. "
   ]
  },
  {
   "cell_type": "markdown",
   "metadata": {},
   "source": [
    "### Recommended extensions & settings"
   ]
  },
  {
   "cell_type": "markdown",
   "metadata": {},
   "source": [
    "\n",
    "\n",
    "- `Table of Contents (2)`: \n",
    "    - Clickable sidebar with markdown headers as bookmarks/links.\n",
    "    - Recommended options:\n",
    "        - Change `Maximum level of nested sections to display on the tables of contents` to 3.\n",
    "        -  Check `Display Table of Contents as a sidebar (otherwise as a floating window)`\n",
    "        - Check `Collapse/uncollapse ToC sections when the collapsible_headings nbextension is used to collapse/uncollapse sections in the notebook. For the inverse behaviour, see collapsible_headings' configuration`\n",
    "\n",
    "\n",
    "- `Collapsible Headings`: Collapse sections of your notebook using markdown headers.\n",
    "    - Recommended options: \n",
    "        -  Check 'Collapse/uncollapse notebook sections when the ToC2 nbextension is used to collapse/uncollapse sections in the table of contents. For the inverse behaviour, see ToC2's configuration' at towards the bottom of the options.\n",
    "\n",
    "\n",
    "- `Codefolding`: Lets you collapse function definitions and blocks of code. \n",
    "\n",
    "\n",
    "- `Live Markdown Preview`: Shows a preview of what the markdown cell you are editing will look like once you render it with Shift+Enter\n",
    "    - Recommended options:\n",
    "        - Check `Show the input & output of markdown cells side-by-side while editing them.`\n",
    "\n",
    "\n",
    "- `spellchecker`\n",
    "\n",
    "<!-- \n",
    "- `Variable Inspector` (but warning/caveat): \n",
    "    - Lets you see details about all of the variables in your notebook.\n",
    "    - HUGELY helpful for new coders.\n",
    "    - Recommended options:\n",
    "        - `Display window at startup` (for now while you are learning python)\n",
    " -->"
   ]
  },
  {
   "cell_type": "markdown",
   "metadata": {},
   "source": [
    "# 🔬Workflow for Labs 🧪"
   ]
  },
  {
   "cell_type": "markdown",
   "metadata": {},
   "source": [
    "> - While you CAN work on both Illumidesk and your local computer, I recommend using your local computer for a few reasons:\n",
    "    - You will have to do the Key Cumulative Labs for each phase on your local computer. \n",
    "    - You will get more activity added to your GitHub user profile (the green boxes on your profile page)"
   ]
  },
  {
   "cell_type": "markdown",
   "metadata": {},
   "source": [
    "## On Illumidesk\n",
    "\n",
    "- Any code done on Illumidesk will be saved to Illumidesk ONLY.\n",
    "- In order to save your labs, you will need to follow the instructions on this repo's README: \n",
    "    - https://github.com/learn-co-curriculum/dsc-saving-illumidesk-work-to-github\n",
    "    \n"
   ]
  },
  {
   "cell_type": "markdown",
   "metadata": {},
   "source": [
    "## On Your Local Machine"
   ]
  },
  {
   "cell_type": "markdown",
   "metadata": {},
   "source": [
    "- From Canvas page:(not illumidesk notebook) click on the GitHub icon <img src=\"https://github.githubassets.com/images/modules/logos_page/GitHub-Mark.png\" width=30px style=\"display:inline\"> which will open the repo on GitHub.com\n",
    "- Click on the `Fork` button and copy the url for your fork.\n",
    "<!-- - Clone lesson to your PC. -->\n",
    "- Open terminal, navigate to the folder where you want the repo to appear. \n",
    "    - e.g. `cd ~/Documents/Flatiron/Phase_1/`\n",
    "- Clone your fork using the URL you copied from github.\n",
    "    `git clone <url-of-your-fork>`\n",
    "\n",
    "- From your terminal, `cd` into the cloned repo's folder.\n",
    "- Launch jupyter notebook with terminal.\n",
    "    - `jupyter notebook`\n",
    "\n",
    "\n",
    "- Complete the lab.\n",
    "- Save & checkpoint notebook\n",
    "\n",
    "\n",
    "- Either open a new terminal in the same folder as your repo\n",
    "    - OR shut down jupyter (using the `Quit` button or `Cntrl+C`) and use the terminal that was running your notebook.\n",
    " "
   ]
  },
  {
   "cell_type": "markdown",
   "metadata": {},
   "source": [
    "#### Save your completed lab by running the following commands\n",
    "\n",
    "\n",
    "- To save your updated repo:\n",
    "\n",
    "```bash\n",
    "## cd to base folder of repo\n",
    "cd path/to/repo\n",
    "\n",
    "## Add changes to commit\n",
    "git add .\n",
    "# Commit the changes with a  message\n",
    "git commit -m \"your message here\"\n",
    "# Push changes to GitHub profile\n",
    "git push\n",
    "```\n",
    "\n",
    "- Note, you can actually accomplish steps 2 and 3 above in one line of code with \n",
    "```bash\n",
    "git commit -am \"message\"\n",
    "git push\n",
    "```"
   ]
  },
  {
   "cell_type": "markdown",
   "metadata": {},
   "source": [
    "# 📜Appendix:"
   ]
  },
  {
   "cell_type": "markdown",
   "metadata": {},
   "source": [
    "## GitHubDesktop"
   ]
  },
  {
   "cell_type": "markdown",
   "metadata": {},
   "source": [
    "- Consider installing [GitHub Desktop](https://desktop.github.com/)\n",
    "<img src=\"https://desktop.github.com/images/github-desktop-screenshot-mac.png\" width=50%>"
   ]
  },
  {
   "cell_type": "markdown",
   "metadata": {},
   "source": [
    "## Showing Hidden Files"
   ]
  },
  {
   "cell_type": "markdown",
   "metadata": {},
   "source": [
    "- Windows Users: \n",
    "    - Turn on View Hidden Files and Folders in your File Explorer menu:\n",
    "        - [Microsoft Support Article](https://support.microsoft.com/en-us/windows/view-hidden-files-and-folders-in-windows-10-97fbc472-c603-9d90-91d0-1166d1d9f4b5#:~:text=Open%20File%20Explorer%20from%20the,folders%2C%20and%20drives%20and%20OK.)\n",
    "        \n",
    "    - On the same settings page, also deselect \"Hide extensions for known file types and click OK.\"\n",
    "    \n",
    "    \n",
    "- Mac Users:\n",
    "    - Use this keyboard shortcut from inside finder:\n",
    "    `Cmd+Shift+.`\n",
    "    - Use it again to hide hidden files. "
   ]
  }
 ],
 "metadata": {
  "kernelspec": {
   "display_name": "learn-env",
   "language": "python",
   "name": "learn-env"
  },
  "language_info": {
   "codemirror_mode": {
    "name": "ipython",
    "version": 3
   },
   "file_extension": ".py",
   "mimetype": "text/x-python",
   "name": "python",
   "nbconvert_exporter": "python",
   "pygments_lexer": "ipython3",
   "version": "3.6.9"
  },
  "toc": {
   "base_numbering": 1,
   "nav_menu": {},
   "number_sections": true,
   "sideBar": true,
   "skip_h1_title": false,
   "title_cell": "Table of Contents",
   "title_sidebar": "Contents",
   "toc_cell": false,
   "toc_position": {
    "height": "calc(100% - 180px)",
    "left": "10px",
    "top": "150px",
    "width": "256px"
   },
   "toc_section_display": true,
   "toc_window_display": true
  },
  "varInspector": {
   "cols": {
    "lenName": 16,
    "lenType": 16,
    "lenVar": 40
   },
   "kernels_config": {
    "python": {
     "delete_cmd_postfix": "",
     "delete_cmd_prefix": "del ",
     "library": "var_list.py",
     "varRefreshCmd": "print(var_dic_list())"
    },
    "r": {
     "delete_cmd_postfix": ") ",
     "delete_cmd_prefix": "rm(",
     "library": "var_list.r",
     "varRefreshCmd": "cat(var_dic_list()) "
    }
   },
   "position": {
    "height": "144px",
    "left": "909px",
    "right": "20px",
    "top": "121px",
    "width": "350px"
   },
   "types_to_exclude": [
    "module",
    "function",
    "builtin_function_or_method",
    "instance",
    "_Feature"
   ],
   "window_display": false
  }
 },
 "nbformat": 4,
 "nbformat_minor": 2
}
